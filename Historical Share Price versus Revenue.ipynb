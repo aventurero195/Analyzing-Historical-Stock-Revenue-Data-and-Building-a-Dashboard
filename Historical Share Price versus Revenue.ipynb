{
 "cells": [
  {
   "cell_type": "code",
   "execution_count": null,
   "id": "63577b80-5d3d-4dc3-a353-3265b51e753d",
   "metadata": {},
   "outputs": [],
   "source": [
    "#Import Yfinance\n",
    "import yfinance as yf\n",
    "\n",
    "# Importing Pandas for Dataframe\n",
    "import pandas as pd\n",
    "\n",
    "#Importing requests for API calls\n",
    "import requests\n",
    "\n",
    "#Import Beautiful Soup for Web Scraping\n",
    "from bs4 import BeautifulSoup\n",
    "\n",
    "#Import plotly for graphs\n",
    "import plotly.graph_objects as go\n",
    "from plotly.subplots import make_subplots\n",
    "import plotly.io as pio\n",
    "pio.renderers.default = \"iframe\"\n",
    "\n",
    "#Importing Warnings to ignore\n",
    "import warnings\n",
    "\n",
    "#Ignore all warnings\n",
    "warnings.filterwarnings(\"ignore\", category=FutureWarning)"
   ]
  },
  {
   "cell_type": "code",
   "execution_count": null,
   "id": "875f496c-efe8-4f89-91a3-575582186c2f",
   "metadata": {},
   "outputs": [],
   "source": [
    "# Extracting Tesla Stock Data using yfinance\n",
    "Tesla = yf.Ticker(\"TSLA\")\n",
    "tesla_data = Tesla.history(period=\"max\")"
   ]
  },
  {
   "cell_type": "code",
   "execution_count": null,
   "id": "b696a4d8-97ec-412e-97dd-ccbbd49c4edb",
   "metadata": {},
   "outputs": [],
   "source": [
    "tesla_data.reset_index(inplace=True)\n",
    "tesla_data.head()"
   ]
  },
  {
   "cell_type": "code",
   "execution_count": null,
   "id": "c9005f22-0b7c-4010-8c85-f956459d92f5",
   "metadata": {},
   "outputs": [],
   "source": [
    "url = \"https://cf-courses-data.s3.us.cloud-object-storage.appdomain.cloud/IBMDeveloperSkillsNetwork-PY0220EN-SkillsNetwork/labs/project/revenue.htm\"\n",
    "\n",
    "#Get the HTML data from the URL\n",
    "html_data = requests.get(url).text\n",
    "soup = BeautifulSoup(html_data,'html.parser')"
   ]
  },
  {
   "cell_type": "code",
   "execution_count": null,
   "id": "920f75ac-18ef-4e45-b48e-8a203a8af741",
   "metadata": {},
   "outputs": [],
   "source": [
    "#Get the first table that contains Tesla Revenue data\n",
    "tesla_revenue = pd.DataFrame(columns=[\"Date\" , \"Revenue\"])\n",
    "Revenue_table = soup.find('table')"
   ]
  },
  {
   "cell_type": "code",
   "execution_count": null,
   "id": "728d6223-06fe-4911-bffb-0b730c023ec6",
   "metadata": {},
   "outputs": [],
   "source": [
    "#Get all the records from the table\n",
    "for row in Revenue_table.find(\"tbody\").find_all('tr'):\n",
    "    col = row.find_all(\"td\")\n",
    "    Date = col[0].text\n",
    "    Revenue = col[1].text\n",
    "    tesla_revenue = pd.concat([tesla_revenue,pd.DataFrame({\"Date\":[Date],\"Revenue\":[Revenue]})], ignore_index=True)\n"
   ]
  },
  {
   "cell_type": "code",
   "execution_count": null,
   "id": "88ded137-a62e-41e6-a7e7-bb8aa3d10c40",
   "metadata": {},
   "outputs": [],
   "source": [
    "#Remove $ and , from the revenue column\n",
    "tesla_revenue[\"Revenue\"] = tesla_revenue['Revenue'].str.replace('$',\"\")\n",
    "tesla_revenue[\"Revenue\"] = tesla_revenue['Revenue'].str.replace(',',\"\")"
   ]
  },
  {
   "cell_type": "code",
   "execution_count": null,
   "id": "b705e27e-dc63-4d00-8e74-edf1ea37fa22",
   "metadata": {},
   "outputs": [],
   "source": [
    "#Remove nulls\n",
    "tesla_revenue.dropna(inplace=True)\n",
    "tesla_revenue = tesla_revenue[tesla_revenue['Revenue'] != \"\"]"
   ]
  },
  {
   "cell_type": "code",
   "execution_count": null,
   "id": "4a8b4f4a-98e8-4e15-91e1-cb71f0d5b250",
   "metadata": {},
   "outputs": [],
   "source": [
    "#Print last 5 rows\n",
    "tesla_revenue.tail()"
   ]
  },
  {
   "cell_type": "code",
   "execution_count": null,
   "id": "909743ce-eaac-43ac-9e20-f8aa069fb015",
   "metadata": {},
   "outputs": [],
   "source": [
    "# Extracting GameStop Stock Data using yfinance\n",
    "GameStop = yf.Ticker(\"GME\")\n",
    "gme_data = GameStop.history(period=\"max\")"
   ]
  },
  {
   "cell_type": "code",
   "execution_count": null,
   "id": "a623e49c-93f3-42a1-a6ac-50a52b551d0b",
   "metadata": {},
   "outputs": [],
   "source": [
    "gme_data.reset_index(inplace=True)\n",
    "gme_data.head()"
   ]
  },
  {
   "cell_type": "code",
   "execution_count": null,
   "id": "c8abef8c-0e90-4666-8a7c-a48108e668b8",
   "metadata": {},
   "outputs": [],
   "source": [
    "url = \"https://cf-courses-data.s3.us.cloud-object-storage.appdomain.cloud/IBMDeveloperSkillsNetwork-PY0220EN-SkillsNetwork/labs/project/stock.html\"\n",
    "\n",
    "#Get the HTML data from the URL\n",
    "html_data = requests.get(url).text\n",
    "soup = BeautifulSoup(html_data,'html.parser')"
   ]
  },
  {
   "cell_type": "code",
   "execution_count": null,
   "id": "57791328-9e71-44eb-8558-f350476a8b6d",
   "metadata": {},
   "outputs": [],
   "source": [
    "#Get the first table that contains GameStop Revenue data\n",
    "gme_revenue = pd.DataFrame(columns=[\"Date\" , \"Revenue\"])\n",
    "Revenue_table = soup.find('table')"
   ]
  },
  {
   "cell_type": "code",
   "execution_count": null,
   "id": "2ed77fc4-4177-48eb-8fa5-d87f2261f8e2",
   "metadata": {},
   "outputs": [],
   "source": [
    "#Get all the records from the table\n",
    "for row in Revenue_table.find(\"tbody\").find_all('tr'):\n",
    "    col = row.find_all(\"td\")\n",
    "    Date = col[0].text\n",
    "    Revenue = col[1].text\n",
    "    gme_revenue = pd.concat([gme_revenue,pd.DataFrame({\"Date\":[Date],\"Revenue\":[Revenue]})], ignore_index=True)\n"
   ]
  },
  {
   "cell_type": "code",
   "execution_count": null,
   "id": "b03d4cad-5348-4d74-8312-7100d004796a",
   "metadata": {},
   "outputs": [],
   "source": [
    "#Remove $ and , from the revenue column\n",
    "gme_revenue[\"Revenue\"] = gme_revenue['Revenue'].str.replace('$',\"\")\n",
    "gme_revenue[\"Revenue\"] = gme_revenue['Revenue'].str.replace(',',\"\")"
   ]
  },
  {
   "cell_type": "code",
   "execution_count": null,
   "id": "4e6efad5-7446-4e72-8b77-fea791f17262",
   "metadata": {},
   "outputs": [],
   "source": [
    "#Remove nulls\n",
    "gme_revenue.dropna(inplace=True)\n",
    "gme_revenue = gme_revenue[gme_revenue['Revenue'] != \"\"]"
   ]
  },
  {
   "cell_type": "code",
   "execution_count": null,
   "id": "433ffd84-68a7-45f1-8088-af92db752e80",
   "metadata": {},
   "outputs": [],
   "source": [
    "#Print last 5 rows\n",
    "gme_revenue.tail()"
   ]
  },
  {
   "cell_type": "code",
   "execution_count": null,
   "id": "d334b4cb-fa6b-4e22-b9b3-3e6edb1b5dd8",
   "metadata": {},
   "outputs": [],
   "source": [
    "def make_graph(stock_data, revenue_data, stock):\n",
    "    fig = make_subplots(rows=2, cols=1, shared_xaxes=True, subplot_titles=(\"Historical Share Price\", \"Historical Revenue\"), vertical_spacing = .3)\n",
    "    stock_data_specific = stock_data[stock_data.Date <= '2021-06-14']\n",
    "    revenue_data_specific = revenue_data[revenue_data.Date <= '2021-04-30']\n",
    "    fig.add_trace(go.Scatter(x=pd.to_datetime(stock_data_specific.Date, infer_datetime_format=True), y=stock_data_specific.Close.astype(\"float\"), name=\"Share Price\"), row=1, col=1)\n",
    "    fig.add_trace(go.Scatter(x=pd.to_datetime(revenue_data_specific.Date, infer_datetime_format=True), y=revenue_data_specific.Revenue.astype(\"float\"), name=\"Revenue\"), row=2, col=1)\n",
    "    fig.update_xaxes(title_text=\"Date\", row=1, col=1)\n",
    "    fig.update_xaxes(title_text=\"Date\", row=2, col=1)\n",
    "    fig.update_yaxes(title_text=\"Price ($US)\", row=1, col=1)\n",
    "    fig.update_yaxes(title_text=\"Revenue ($US Millions)\", row=2, col=1)\n",
    "    fig.update_layout(showlegend=False,\n",
    "    height=900,\n",
    "    title=stock,\n",
    "    xaxis_rangeslider_visible=True)\n",
    "    fig.show()"
   ]
  },
  {
   "cell_type": "code",
   "execution_count": null,
   "id": "9410ce2b-08ee-4f38-90f6-c327e6121cd9",
   "metadata": {},
   "outputs": [],
   "source": [
    "make_graph (tesla_data, tesla_revenue, 'TESLA HISTORICAL SHARE PRICE VERSUS REVENUE')"
   ]
  },
  {
   "cell_type": "code",
   "execution_count": null,
   "id": "f926b898-17d7-4b2d-9cda-6ceb1050d800",
   "metadata": {},
   "outputs": [],
   "source": [
    "make_graph (gme_data, gme_revenue, 'GAMESTOP HISTORICAL SHARE PRICE VERSUS REVENUE')"
   ]
  }
 ],
 "metadata": {
  "kernelspec": {
   "display_name": "Python [conda env:base] *",
   "language": "python",
   "name": "conda-base-py"
  },
  "language_info": {
   "codemirror_mode": {
    "name": "ipython",
    "version": 3
   },
   "file_extension": ".py",
   "mimetype": "text/x-python",
   "name": "python",
   "nbconvert_exporter": "python",
   "pygments_lexer": "ipython3",
   "version": "3.12.7"
  }
 },
 "nbformat": 4,
 "nbformat_minor": 5
}
